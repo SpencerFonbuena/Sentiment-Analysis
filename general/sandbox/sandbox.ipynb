{
 "cells": [
  {
   "cell_type": "code",
   "execution_count": 3,
   "metadata": {},
   "outputs": [],
   "source": [
    "import pandas as pd"
   ]
  },
  {
   "cell_type": "code",
   "execution_count": 4,
   "metadata": {},
   "outputs": [
    {
     "data": {
      "text/html": [
       "<div>\n",
       "<style scoped>\n",
       "    .dataframe tbody tr th:only-of-type {\n",
       "        vertical-align: middle;\n",
       "    }\n",
       "\n",
       "    .dataframe tbody tr th {\n",
       "        vertical-align: top;\n",
       "    }\n",
       "\n",
       "    .dataframe thead th {\n",
       "        text-align: right;\n",
       "    }\n",
       "</style>\n",
       "<table border=\"1\" class=\"dataframe\">\n",
       "  <thead>\n",
       "    <tr style=\"text-align: right;\">\n",
       "      <th></th>\n",
       "      <th>link</th>\n",
       "      <th>title</th>\n",
       "    </tr>\n",
       "  </thead>\n",
       "  <tbody>\n",
       "    <tr>\n",
       "      <th>0</th>\n",
       "      <td>https://yahoo.com/news/canadian-governments-co...</td>\n",
       "      <td>Canadian governments commit millions to landfi...</td>\n",
       "    </tr>\n",
       "    <tr>\n",
       "      <th>1</th>\n",
       "      <td>https://yahoo.com/news/russia-blew-apart-neigh...</td>\n",
       "      <td>Russia blew apart a neighborhood during a mass...</td>\n",
       "    </tr>\n",
       "    <tr>\n",
       "      <th>2</th>\n",
       "      <td>https://yahoo.com/news/senegal-election-domina...</td>\n",
       "      <td>Senegal election dominated by freed prisoner F...</td>\n",
       "    </tr>\n",
       "    <tr>\n",
       "      <th>3</th>\n",
       "      <td>https://yahoo.com/news/99-world-100-most-pollu...</td>\n",
       "      <td>99 of the world’s 100 most polluted cities are...</td>\n",
       "    </tr>\n",
       "    <tr>\n",
       "      <th>4</th>\n",
       "      <td>https://yahoo.com/news/mclaren-artura-meets-ea...</td>\n",
       "      <td>McLaren Artura Meets Early Demise Near Vancouv...</td>\n",
       "    </tr>\n",
       "    <tr>\n",
       "      <th>5</th>\n",
       "      <td>https://yahoo.com/news/ex-poundland-boss-marku...</td>\n",
       "      <td>Markus Jooste: Poundland owner's ex-boss dies ...</td>\n",
       "    </tr>\n",
       "    <tr>\n",
       "      <th>6</th>\n",
       "      <td>https://yahoo.com/news/zara-owner-inditex-work...</td>\n",
       "      <td>Zara owner Inditex workers protest after recor...</td>\n",
       "    </tr>\n",
       "    <tr>\n",
       "      <th>7</th>\n",
       "      <td>https://yahoo.com/lifestyle/dragon-ball-theme-...</td>\n",
       "      <td>Dragon Ball Theme Park To Open in Saudi Arabia...</td>\n",
       "    </tr>\n",
       "    <tr>\n",
       "      <th>8</th>\n",
       "      <td>https://yahoo.com/news/least-65-migrant-bodies...</td>\n",
       "      <td>At least 65 migrant bodies found in Libya mass...</td>\n",
       "    </tr>\n",
       "    <tr>\n",
       "      <th>9</th>\n",
       "      <td>https://yahoo.com/news/looks-pakistan-bought-c...</td>\n",
       "      <td>It looks like Pakistan bought a Chinese spy sh...</td>\n",
       "    </tr>\n",
       "    <tr>\n",
       "      <th>10</th>\n",
       "      <td>https://yahoo.com/news/russia-returning-cold-w...</td>\n",
       "      <td>Russia is returning to its Cold War posture wi...</td>\n",
       "    </tr>\n",
       "    <tr>\n",
       "      <th>11</th>\n",
       "      <td>https://yahoo.com/news/survey-almost-70-german...</td>\n",
       "      <td>Survey: Almost 70% of Germans critical of Isra...</td>\n",
       "    </tr>\n",
       "    <tr>\n",
       "      <th>12</th>\n",
       "      <td>https://yahoo.com/news/russian-barrage-ukraine...</td>\n",
       "      <td>Russian barrage on Ukraine knocks out power, l...</td>\n",
       "    </tr>\n",
       "  </tbody>\n",
       "</table>\n",
       "</div>"
      ],
      "text/plain": [
       "                                                 link  \\\n",
       "0   https://yahoo.com/news/canadian-governments-co...   \n",
       "1   https://yahoo.com/news/russia-blew-apart-neigh...   \n",
       "2   https://yahoo.com/news/senegal-election-domina...   \n",
       "3   https://yahoo.com/news/99-world-100-most-pollu...   \n",
       "4   https://yahoo.com/news/mclaren-artura-meets-ea...   \n",
       "5   https://yahoo.com/news/ex-poundland-boss-marku...   \n",
       "6   https://yahoo.com/news/zara-owner-inditex-work...   \n",
       "7   https://yahoo.com/lifestyle/dragon-ball-theme-...   \n",
       "8   https://yahoo.com/news/least-65-migrant-bodies...   \n",
       "9   https://yahoo.com/news/looks-pakistan-bought-c...   \n",
       "10  https://yahoo.com/news/russia-returning-cold-w...   \n",
       "11  https://yahoo.com/news/survey-almost-70-german...   \n",
       "12  https://yahoo.com/news/russian-barrage-ukraine...   \n",
       "\n",
       "                                                title  \n",
       "0   Canadian governments commit millions to landfi...  \n",
       "1   Russia blew apart a neighborhood during a mass...  \n",
       "2   Senegal election dominated by freed prisoner F...  \n",
       "3   99 of the world’s 100 most polluted cities are...  \n",
       "4   McLaren Artura Meets Early Demise Near Vancouv...  \n",
       "5   Markus Jooste: Poundland owner's ex-boss dies ...  \n",
       "6   Zara owner Inditex workers protest after recor...  \n",
       "7   Dragon Ball Theme Park To Open in Saudi Arabia...  \n",
       "8   At least 65 migrant bodies found in Libya mass...  \n",
       "9   It looks like Pakistan bought a Chinese spy sh...  \n",
       "10  Russia is returning to its Cold War posture wi...  \n",
       "11  Survey: Almost 70% of Germans critical of Isra...  \n",
       "12  Russian barrage on Ukraine knocks out power, l...  "
      ]
     },
     "execution_count": 4,
     "metadata": {},
     "output_type": "execute_result"
    }
   ],
   "source": [
    "data = pd.read_csv('/Users/spencerfonbuena/Documents/Python/FO/Sentiment Analysis/test2.csv')\n",
    "data"
   ]
  },
  {
   "cell_type": "code",
   "execution_count": 6,
   "metadata": {},
   "outputs": [
    {
     "name": "stdout",
     "output_type": "stream",
     "text": [
      "link\n"
     ]
    }
   ],
   "source": [
    "boi = data['link'][0]\n",
    "if boi[:4] == 'http':\n",
    "    print('link')"
   ]
  },
  {
   "cell_type": "code",
   "execution_count": null,
   "metadata": {},
   "outputs": [],
   "source": []
  }
 ],
 "metadata": {
  "kernelspec": {
   "display_name": "sa",
   "language": "python",
   "name": "python3"
  },
  "language_info": {
   "codemirror_mode": {
    "name": "ipython",
    "version": 3
   },
   "file_extension": ".py",
   "mimetype": "text/x-python",
   "name": "python",
   "nbconvert_exporter": "python",
   "pygments_lexer": "ipython3",
   "version": "3.12.2"
  }
 },
 "nbformat": 4,
 "nbformat_minor": 2
}
