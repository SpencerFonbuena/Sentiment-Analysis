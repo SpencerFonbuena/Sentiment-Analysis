{
 "cells": [
  {
   "cell_type": "code",
   "execution_count": 4,
   "metadata": {},
   "outputs": [],
   "source": [
    "from transformers import BertTokenizer, BertForSequenceClassification\n",
    "from transformers import pipeline\n",
    "from transformers import RobertaTokenizer, RobertaForSequenceClassification\n",
    "\n",
    "def save_model():\n",
    "    model = BertForSequenceClassification.from_pretrained('yiyanghkust/finbert-tone',num_labels=3)\n",
    "    tokenizer = BertTokenizer.from_pretrained('yiyanghkust/finbert-tone')\n",
    "    \n",
    "    # Define your local directory path where you want to save the model and tokenizer\n",
    "    local_dir = '/Users/spencerfonbuena/Documents/Python/FO/Sentiment Analysis/news/analysis/fbtone_model'\n",
    "\n",
    "    # Save model and tokenizer locally\n",
    "    model.save_pretrained(local_dir) \n",
    "    tokenizer.save_pretrained(local_dir)\n",
    "save_model()"
   ]
  },
  {
   "cell_type": "code",
   "execution_count": 8,
   "metadata": {},
   "outputs": [
    {
     "name": "stdout",
     "output_type": "stream",
     "text": [
      "[{'label': 'Positive', 'score': 0.9999998807907104}]\n"
     ]
    }
   ],
   "source": [
    "local_dir = '/Users/spencerfonbuena/Documents/Python/FO/Sentiment Analysis/news/analysis/fbtone_model'\n",
    "\n",
    "model = BertForSequenceClassification.from_pretrained(local_dir,num_labels=3)\n",
    "tokenizer = BertTokenizer.from_pretrained(local_dir)\n",
    "\n",
    "nlp = pipeline(\"sentiment-analysis\", model=model, tokenizer=tokenizer)\n",
    "\n",
    "sentences = ['''OTTAWA—Canada’s economy made a solid start to the new year with growth in the first two months tracking well ahead of the Bank of Canada’s forecast, reinforcing expectations the central bank will once again stick to the sidelines at its coming policy meeting.\n",
    "\n",
    "The expansion in January was the strongest in a year, bolstered by a recovery with public sector strikes ending in Quebec and backed by increased activity across many segments of the economy. And a flash estimate suggests the strength carried through to last month thanks to increases in areas ranging from natural resources extraction to manufacturing and finance, Statistics Canada said Thursday.''']\n",
    "results = nlp(sentences)\n",
    "print(results)  #LABEL_0: neutral; LABEL_1: positive; LABEL_2: negative\n"
   ]
  },
  {
   "cell_type": "code",
   "execution_count": 1,
   "metadata": {},
   "outputs": [],
   "source": [
    "from transformers import pipeline\n",
    "from transformers import RobertaTokenizer, RobertaForSequenceClassification\n",
    "def save_model():\n",
    "    model = RobertaForSequenceClassification.from_pretrained(\"siebert/sentiment-roberta-large-english\")\n",
    "    tokenizer = RobertaTokenizer.from_pretrained(\"siebert/sentiment-roberta-large-english\")\n",
    "    \n",
    "    # Define your local directory path where you want to save the model and tokenizer\n",
    "    local_dir = '/Users/spencerfonbuena/Documents/Python/FO/Sentiment Analysis/test1'\n",
    "\n",
    "    # Save model and tokenizer locally\n",
    "    model.save_pretrained(local_dir) \n",
    "    tokenizer.save_pretrained(local_dir)\n",
    "save_model()"
   ]
  },
  {
   "cell_type": "code",
   "execution_count": null,
   "metadata": {},
   "outputs": [],
   "source": []
  }
 ],
 "metadata": {
  "kernelspec": {
   "display_name": "sa",
   "language": "python",
   "name": "python3"
  },
  "language_info": {
   "codemirror_mode": {
    "name": "ipython",
    "version": 3
   },
   "file_extension": ".py",
   "mimetype": "text/x-python",
   "name": "python",
   "nbconvert_exporter": "python",
   "pygments_lexer": "ipython3",
   "version": "3.12.2"
  }
 },
 "nbformat": 4,
 "nbformat_minor": 2
}
